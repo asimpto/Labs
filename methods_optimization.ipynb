{
 "cells": [
  {
   "cell_type": "code",
   "id": "initial_id",
   "metadata": {
    "collapsed": true,
    "ExecuteTime": {
     "end_time": "2024-06-26T11:37:56.123564Z",
     "start_time": "2024-06-26T11:37:56.121115Z"
    }
   },
   "source": [
    "import numpy as np\n",
    "import time\n",
    "from scipy.optimize import minimize"
   ],
   "outputs": [],
   "execution_count": 24
  },
  {
   "metadata": {},
   "cell_type": "code",
   "outputs": [],
   "execution_count": null,
   "source": "Вводы-data-as-joinbyfield-2024-07-23 12_26_58.csv",
   "id": "3b899b5b74519576"
  },
  {
   "metadata": {
    "ExecuteTime": {
     "end_time": "2024-06-26T11:37:56.132630Z",
     "start_time": "2024-06-26T11:37:56.126215Z"
    }
   },
   "cell_type": "code",
   "source": [
    "# Целевая функция\n",
    "def task_func(x):\n",
    "    return x[0] ** 2 + x[1] ** 2\n",
    "\n",
    "# Градиент целевой функции\n",
    "def gradient(x):\n",
    "    return np.array([2 * x[0], 2 * x[1]])\n",
    "\n",
    "# Ограничения\n",
    "def cons1(x):\n",
    "    return -(2 * x[0] + x[1] - 2)\n",
    "\n",
    "def cons2(x):\n",
    "    return -(-x[1] + 1)\n",
    "\n",
    "# Проекция на область допустимых значений\n",
    "def proj(x):\n",
    "    if cons1(x) < 0:\n",
    "        # Проекция на -2 * x[0] - x[1] + 2 >= 0\n",
    "        a, b, c = -2, -1, 2\n",
    "        x = x - ((a * x[0] + b * x[1] - c) / (a ** 2 + b ** 2)) * np.array([a, b])\n",
    "    if cons2(x) < 0:\n",
    "        # Проекция на x[1] >= 1\n",
    "        x[1] = max(x[1], 1)\n",
    "    return x\n",
    "\n",
    "# Штрафная функция\n",
    "def penalty_func(x, mu):\n",
    "    penalty = 0\n",
    "    if -(cons1(x)) > 0:\n",
    "        penalty += mu * cons1(x) ** 2\n",
    "    if -(cons2(x)) > 0:\n",
    "        penalty += mu * cons2(x) ** 2\n",
    "    return penalty\n",
    "\n",
    "# Общая функция с штрафом\n",
    "def total_func(x, mu):\n",
    "    return task_func(x) + penalty_func(x, mu)\n",
    "\n",
    "# Градиент общей функции с штрафом\n",
    "def total_gradient(x, mu):\n",
    "    grad = gradient(x)\n",
    "    if -(cons1(x)) > 0:\n",
    "        grad += 2 * mu * -(cons1(x)) * np.array([2, 1])\n",
    "    if -(cons2(x)) > 0:\n",
    "        grad += 2 * mu * -(cons2(x)) * np.array([0, -1])\n",
    "    return grad"
   ],
   "id": "233ab9e9175d4d4c",
   "outputs": [],
   "execution_count": 25
  },
  {
   "metadata": {
    "ExecuteTime": {
     "end_time": "2024-06-26T11:37:56.149855Z",
     "start_time": "2024-06-26T11:37:56.147108Z"
    }
   },
   "cell_type": "code",
   "source": [
    "# Параметры Adam\n",
    "beta1 = 0.9  # коэффициент экспоненциального затухания для момента\n",
    "beta2 = 0.999  # коэффициент экспоненциального затухания для скорости\n",
    "eps = 1e-8  # погрешность\n",
    "max_iter = 1000  # максимальное количество итераций\n",
    "mu1 = 1.0    # параметры штрафа\n",
    "mu2 = 10.0   # параметры штрафа\n",
    "\n",
    "# Начальная точка\n",
    "x = np.array([2.0, 6.0])\n",
    "x0 = x\n",
    "\n",
    "# Инициализация моментов\n",
    "m = np.zeros_like(x)\n",
    "v = np.zeros_like(x)"
   ],
   "id": "3bd0bd62e70da61",
   "outputs": [],
   "execution_count": 26
  },
  {
   "metadata": {},
   "cell_type": "markdown",
   "source": "---",
   "id": "b29f4568cd57ae08"
  },
  {
   "metadata": {},
   "cell_type": "markdown",
   "source": "## <center>Adam μ = 1 </center>",
   "id": "af4e64ed18a3d861"
  },
  {
   "metadata": {
    "ExecuteTime": {
     "end_time": "2024-06-26T11:37:56.161026Z",
     "start_time": "2024-06-26T11:37:56.150985Z"
    }
   },
   "cell_type": "code",
   "source": [
    "# Таймер работы Adam\n",
    "start_timer_adam = time.perf_counter()\n",
    "\n",
    "iter_count = 0\n",
    "\n",
    "# Adam\n",
    "for i in range(max_iter):\n",
    "    grad = total_gradient(x, mu1)\n",
    "    m = beta1 * m + (1 - beta1) * grad\n",
    "    v = beta2 * v + (1 - beta2) * grad**2\n",
    "    m_hat = m / (1 - beta1**(i+1))\n",
    "    v_hat = v / (1 - beta2**(i+1))\n",
    "    new_x = x - 1 * m_hat / (np.sqrt(v_hat) + eps)\n",
    "\n",
    "    if np.linalg.norm(new_x - x) < eps:\n",
    "        iter_count = i\n",
    "        break\n",
    "\n",
    "    x = new_x\n",
    "\n",
    "end_timer_adam = time.perf_counter()"
   ],
   "id": "8219b50cc864f94b",
   "outputs": [],
   "execution_count": 27
  },
  {
   "metadata": {
    "ExecuteTime": {
     "end_time": "2024-06-26T11:37:56.166496Z",
     "start_time": "2024-06-26T11:37:56.162368Z"
    }
   },
   "cell_type": "code",
   "source": [
    "# Scipy.minimize\n",
    "cons = [{'type': 'ineq', 'fun': cons1},\n",
    "        {'type': 'ineq', 'fun': cons2}]\n",
    "\n",
    "start_timer_scipy = time.perf_counter()\n",
    "\n",
    "result_scipy = minimize(task_func, x0, constraints=cons)\n",
    "\n",
    "end_timer_scipy = time.perf_counter()"
   ],
   "id": "1320dabf44e2d05f",
   "outputs": [],
   "execution_count": 28
  },
  {
   "metadata": {
    "ExecuteTime": {
     "end_time": "2024-06-26T11:37:56.169821Z",
     "start_time": "2024-06-26T11:37:56.167208Z"
    }
   },
   "cell_type": "code",
   "source": [
    "# Вывод результатов\n",
    "print(\"Adam\\n\", \"Корень:\", x)\n",
    "print(\" Значение целевой функции:\", task_func(x), \"\\n\")\n",
    "\n",
    "print(\"Scipy\\n\", \"Корень:\", result_scipy.x)\n",
    "print(\" Значение целевой функции:\", result_scipy.fun, \"\\n\")\n",
    "\n",
    "print(\"Погрешность:\", abs(result_scipy.fun - task_func(x)))\n",
    "print(\"Время работы Adam:\", round(end_timer_adam - start_timer_adam, 5), \"секунд\")\n",
    "print(\"Время работы библиотеки scipy:\", round(end_timer_scipy - start_timer_scipy, 5), \"секунд\")\n",
    "\n",
    "print(\"Количество шагов выполнения Adam:\", iter_count)"
   ],
   "id": "9505ea48065edc31",
   "outputs": [
    {
     "name": "stdout",
     "output_type": "stream",
     "text": [
      "Adam\n",
      " Корень: [7.14650843e-08 5.00000079e-01]\n",
      " Значение целевой функции: 0.2500000788377943 \n",
      "\n",
      "Scipy\n",
      " Корень: [-5.96046423e-09  1.00000000e+00]\n",
      " Значение целевой функции: 0.9999999999999976 \n",
      "\n",
      "Погрешность: 0.7499999211622033\n",
      "Время работы Adam: 0.00642 секунд\n",
      "Время работы библиотеки scipy: 0.00187 секунд\n",
      "Количество шагов выполнения Adam: 343\n"
     ]
    }
   ],
   "execution_count": 29
  },
  {
   "metadata": {},
   "cell_type": "markdown",
   "source": "---",
   "id": "b398d5975da989ce"
  },
  {
   "metadata": {},
   "cell_type": "markdown",
   "source": "## <center>Adam μ = 10</center>",
   "id": "db827caa07fb2ec2"
  },
  {
   "metadata": {
    "ExecuteTime": {
     "end_time": "2024-06-26T11:37:56.180141Z",
     "start_time": "2024-06-26T11:37:56.171112Z"
    }
   },
   "cell_type": "code",
   "source": [
    "# Начальная точка\n",
    "x = np.array([2.0, 6.0])\n",
    "x0 = x\n",
    "\n",
    "# Инициализация моментов\n",
    "m = np.zeros_like(x)\n",
    "v = np.zeros_like(x)\n",
    "\n",
    "# Таймер работы Adam\n",
    "start_timer_adam = time.perf_counter()\n",
    "\n",
    "iter_count = 0\n",
    "\n",
    "# Adam\n",
    "for i in range(max_iter):\n",
    "    grad = total_gradient(x, mu2)\n",
    "    m = beta1 * m + (1 - beta1) * grad\n",
    "    v = beta2 * v + (1 - beta2) * grad**2\n",
    "    m_hat = m / (1 - beta1**(i+1))\n",
    "    v_hat = v / (1 - beta2**(i+1))\n",
    "    new_x = x - 1 * m_hat / (np.sqrt(v_hat) + eps)\n",
    "\n",
    "    if np.linalg.norm(new_x - x) < eps:\n",
    "        iter_count = i\n",
    "        break\n",
    "\n",
    "    x = new_x\n",
    "\n",
    "end_timer_adam = time.perf_counter()\n",
    "\n",
    "# Вывод результатов\n",
    "print(\"Adam\\n\", \"Корень:\", x)\n",
    "print(\" Значение целевой функции:\", task_func(x), \"\\n\")\n",
    "\n",
    "print(\"Scipy\\n\", \"Корень:\", result_scipy.x)\n",
    "print(\" Значение целевой функции:\", result_scipy.fun, \"\\n\")\n",
    "\n",
    "print(\"Погрешность:\", abs(result_scipy.fun - task_func(x)))\n",
    "print(\"Время работы Adam:\", round(end_timer_adam - start_timer_adam, 5), \"секунд\")\n",
    "print(\"Время работы библиотеки scipy:\", round(end_timer_scipy - start_timer_scipy, 5), \"секунд\")\n",
    "\n",
    "print(\"Количество шагов выполнения Adam:\", iter_count)"
   ],
   "id": "a428de84b388b7d4",
   "outputs": [
    {
     "name": "stdout",
     "output_type": "stream",
     "text": [
      "Adam\n",
      " Корень: [2.49432638e-07 9.09090864e-01]\n",
      " Значение целевой функции: 0.8264461996925012 \n",
      "\n",
      "Scipy\n",
      " Корень: [-5.96046423e-09  1.00000000e+00]\n",
      " Значение целевой функции: 0.9999999999999976 \n",
      "\n",
      "Погрешность: 0.17355380030749634\n",
      "Время работы Adam: 0.00484 секунд\n",
      "Время работы библиотеки scipy: 0.00187 секунд\n",
      "Количество шагов выполнения Adam: 352\n"
     ]
    }
   ],
   "execution_count": 30
  },
  {
   "metadata": {},
   "cell_type": "markdown",
   "source": "-----",
   "id": "682d9fb9e712b8c3"
  },
  {
   "metadata": {},
   "cell_type": "markdown",
   "source": "## <center>Adam без штрафной функции</center>",
   "id": "1624ae59ebb0159d"
  },
  {
   "metadata": {
    "ExecuteTime": {
     "end_time": "2024-06-26T11:37:56.187317Z",
     "start_time": "2024-06-26T11:37:56.180807Z"
    }
   },
   "cell_type": "code",
   "source": [
    "# Начальная точка\n",
    "x = np.array([2.0, 6.0])\n",
    "x0 = x\n",
    "\n",
    "# Инициализация моментов\n",
    "m = np.zeros_like(x)\n",
    "v = np.zeros_like(x)\n",
    "\n",
    "# Таймер работы Adam\n",
    "start_timer_adam = time.perf_counter()\n",
    "\n",
    "iter_count = 0\n",
    "\n",
    "# Adam\n",
    "for i in range(max_iter):\n",
    "    grad = gradient(x)\n",
    "    m = beta1 * m + (1 - beta1) * grad\n",
    "    v = beta2 * v + (1 - beta2) * grad**2\n",
    "    m_hat = m / (1 - beta1**(i+1))\n",
    "    v_hat = v / (1 - beta2**(i+1))\n",
    "    new_x = proj(x - 1 * m_hat / (np.sqrt(v_hat) + eps))\n",
    "\n",
    "    if np.linalg.norm(new_x - x) < eps:\n",
    "        iter_count = i\n",
    "        break\n",
    "\n",
    "    x = new_x\n",
    "\n",
    "end_timer_adam = time.perf_counter()\n",
    "\n",
    "# Вывод результатов\n",
    "print(\"Adam\\n\", \"Корень:\", x)\n",
    "print(\" Значение целевой функции:\", task_func(x), \"\\n\")\n",
    "\n",
    "print(\"Scipy\\n\", \"Корень:\", result_scipy.x)\n",
    "print(\" Значение целевой функции:\", result_scipy.fun, \"\\n\")\n",
    "\n",
    "print(\"Погрешность:\", abs(result_scipy.fun - task_func(x)))\n",
    "print(\"Время работы Adam:\", round(end_timer_adam - start_timer_adam, 5), \"секунд\")\n",
    "print(\"Время работы библиотеки scipy:\", round(end_timer_scipy - start_timer_scipy, 5), \"секунд\")\n",
    "\n",
    "print(\"Количество шагов выполнения Adam:\", iter_count)"
   ],
   "id": "2713282189bda515",
   "outputs": [
    {
     "name": "stdout",
     "output_type": "stream",
     "text": [
      "Adam\n",
      " Корень: [-1.3872228e-05  1.0000000e+00]\n",
      " Значение целевой функции: 1.0000000001924387 \n",
      "\n",
      "Scipy\n",
      " Корень: [-5.96046423e-09  1.00000000e+00]\n",
      " Значение целевой функции: 0.9999999999999976 \n",
      "\n",
      "Погрешность: 1.9244117410721628e-10\n",
      "Время работы Adam: 0.00265 секунд\n",
      "Время работы библиотеки scipy: 0.00187 секунд\n",
      "Количество шагов выполнения Adam: 228\n"
     ]
    }
   ],
   "execution_count": 31
  }
 ],
 "metadata": {
  "kernelspec": {
   "display_name": "Python 3",
   "language": "python",
   "name": "python3"
  },
  "language_info": {
   "codemirror_mode": {
    "name": "ipython",
    "version": 2
   },
   "file_extension": ".py",
   "mimetype": "text/x-python",
   "name": "python",
   "nbconvert_exporter": "python",
   "pygments_lexer": "ipython2",
   "version": "2.7.6"
  }
 },
 "nbformat": 4,
 "nbformat_minor": 5
}
