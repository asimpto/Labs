{
 "cells": [
  {
   "cell_type": "code",
   "execution_count": 7,
   "id": "initial_id",
   "metadata": {
    "collapsed": true,
    "ExecuteTime": {
     "end_time": "2024-04-16T11:44:09.067364Z",
     "start_time": "2024-04-16T11:44:08.926129Z"
    }
   },
   "outputs": [],
   "source": [
    "import pandas as pd\n",
    "\n",
    "df = pd.read_excel('./content/L5_Weather.xlsx')\n"
   ]
  },
  {
   "cell_type": "code",
   "outputs": [
    {
     "name": "stdout",
     "output_type": "stream",
     "text": [
      "Количество выбросов для фактора 'Hour': 0\n",
      "Количество выбросов для фактора 'Day': 13\n",
      "Количество выбросов для фактора 'Solar_flow': 2\n",
      "Количество выбросов для фактора 'Сloudiness': 0\n",
      "Количество выбросов для фактора 'Transparence': 5\n",
      "Количество выбросов для фактора 'Temperature': 0\n",
      "Количество выбросов для фактора 'Humidity': 0\n",
      "Количество выбросов для фактора 'Wind_speed': 4\n"
     ]
    }
   ],
   "source": [
    "# Функция для обнаружения выбросов по межквартильному расстоянию\n",
    "def detect_outliers(column):\n",
    "    q1 = column.quantile(0.25)\n",
    "    q3 = column.quantile(0.75)\n",
    "    iqr = q3 - q1\n",
    "    lower_bound = q1 - 3 * iqr\n",
    "    upper_bound = q3 + 3 * iqr\n",
    "    outliers = column[(column < lower_bound) | (column > upper_bound)]\n",
    "    return outliers\n",
    "\n",
    "# Обнаружение выбросов для каждого метеорологического фактора\n",
    "outliers_count = {}\n",
    "for column in df.columns:\n",
    "    outliers = detect_outliers(df[column])\n",
    "    outliers_count[column] = len(outliers)\n",
    "\n",
    "# Вывод результата\n",
    "for factor, count in outliers_count.items():\n",
    "    print(f\"Количество выбросов для фактора '{factor}': {count}\")"
   ],
   "metadata": {
    "collapsed": false,
    "ExecuteTime": {
     "end_time": "2024-04-16T11:44:09.079339Z",
     "start_time": "2024-04-16T11:44:09.068433Z"
    }
   },
   "id": "9a7dd5c0cd4de9d0",
   "execution_count": 8
  }
 ],
 "metadata": {
  "kernelspec": {
   "display_name": "Python 3",
   "language": "python",
   "name": "python3"
  },
  "language_info": {
   "codemirror_mode": {
    "name": "ipython",
    "version": 2
   },
   "file_extension": ".py",
   "mimetype": "text/x-python",
   "name": "python",
   "nbconvert_exporter": "python",
   "pygments_lexer": "ipython2",
   "version": "2.7.6"
  }
 },
 "nbformat": 4,
 "nbformat_minor": 5
}
