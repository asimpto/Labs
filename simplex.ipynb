{
 "cells": [
  {
   "cell_type": "code",
   "outputs": [],
   "source": [
    "from scipy.optimize import linprog\n",
    "import numpy as np"
   ],
   "metadata": {
    "collapsed": false,
    "ExecuteTime": {
     "end_time": "2024-04-07T18:44:56.170964Z",
     "start_time": "2024-04-07T18:44:56.156879Z"
    }
   },
   "id": "b364969688e60d6a",
   "execution_count": 1
  },
  {
   "cell_type": "code",
   "outputs": [],
   "source": [
    "# Функция для вычисления столбца, в котором находится наименьшее значение\n",
    "def find_pivot_column(tableau):\n",
    "    return tableau[-1].index(min(tableau[-1]))\n",
    "\n",
    "\n",
    "# Функция для вычисления строки, в которой находится минимальное отношение b[i]/A[i][pivot_column]\n",
    "def find_pivot_row(tableau, pivot_column):\n",
    "    ratios = [tableau[i][-1] / tableau[i][pivot_column] if tableau[i][pivot_column] > 0 else float('inf') for i in\n",
    "              range(len(tableau) - 1)]\n",
    "    return ratios.index(min(ratios))\n",
    "\n",
    "\n",
    "# Функция для обновления таблицы симплекс-метода\n",
    "def update_tableau(tableau, pivot_row, pivot_column):\n",
    "    pivot_element = tableau[pivot_row][pivot_column]\n",
    "    new_tableau = []\n",
    "\n",
    "    for i in range(len(tableau)):\n",
    "        if i == pivot_row:\n",
    "            new_row = [x / pivot_element for x in tableau[i]]\n",
    "        else:\n",
    "            factor = tableau[i][pivot_column] / pivot_element\n",
    "            new_row = [tableau[i][j] - factor * tableau[pivot_row][j] for j in range(len(tableau[i]))]\n",
    "        new_tableau.append(new_row)\n",
    "\n",
    "    return new_tableau\n",
    "\n",
    "\n",
    "# Функция для проверки, завершен ли алгоритм\n",
    "def is_optimal(tableau):\n",
    "    return all(x >= 0 for x in tableau[-1])\n",
    "\n",
    "\n",
    "def print_tableau(tableau):\n",
    "    for row in tableau:\n",
    "        print(row)\n",
    "    print()\n",
    "\n",
    "\n",
    "# Функция для нахождения оптимального решения\n",
    "def simplex_method(A, b, c):\n",
    "    # Создаем начальную таблицу симплекс-метода\n",
    "    tableau = [row[:] + [x] for row, x in zip(A, b)]\n",
    "    tableau.append(c[:] + [0])\n",
    "\n",
    "    # Выводим начальную таблицу\n",
    "    print(\"Начальная таблица:\")\n",
    "    print_tableau(tableau)\n",
    "\n",
    "    # Продолжаем итерации симплекс-метода, пока не будет достигнуто оптимальное значение\n",
    "    iteration = 1\n",
    "    while not is_optimal(tableau):\n",
    "        pivot_column = find_pivot_column(tableau)\n",
    "        pivot_row = find_pivot_row(tableau, pivot_column)\n",
    "        tableau = update_tableau(tableau, pivot_row, pivot_column)\n",
    "        print(f\"Итерация {iteration}:\")\n",
    "        print_tableau(tableau)\n",
    "        iteration += 1\n",
    "\n",
    "    return tableau\n"
   ],
   "metadata": {
    "collapsed": false,
    "ExecuteTime": {
     "end_time": "2024-04-07T18:44:56.226271Z",
     "start_time": "2024-04-07T18:44:56.221365Z"
    }
   },
   "id": "9fb551441423cd4f",
   "execution_count": 2
  },
  {
   "cell_type": "code",
   "outputs": [],
   "source": [
    "# Коэффициенты целевой функции\n",
    "c = [-1.1, -1.5]  # Мы максимизируем прибыль, поэтому коэффициенты отрицательные\n",
    "\n",
    "# Коэффициенты левых частей ограничений\n",
    "A = [\n",
    "    [1, 2],    # Ограничение на время работы\n",
    "    [1, 0],    # Ограничение по производству деталей типа А\n",
    "    [0, 2],    # Ограничение по производству деталей типа В\n",
    "    [2, 4],    # Ограничение по использованию полимерного материала\n",
    "    [5, 3],    # Ограничение по использованию листового материала\n",
    "    [-1, -1]   # Минимальное количество производимых деталей\n",
    "]\n",
    "\n",
    "# Правые части ограничений\n",
    "b = [5000, 2500, 2000, 10000, 10000, -1500]\n",
    "\n",
    "# Задаем границы для переменных x1 и x2 (неотрицательные значения)\n",
    "x0_bounds = (0, None)\n",
    "x1_bounds = (0, None)"
   ],
   "metadata": {
    "collapsed": true,
    "ExecuteTime": {
     "end_time": "2024-04-07T18:44:56.229819Z",
     "start_time": "2024-04-07T18:44:56.227188Z"
    }
   },
   "id": "initial_id",
   "execution_count": 3
  },
  {
   "cell_type": "code",
   "outputs": [
    {
     "name": "stdout",
     "output_type": "stream",
     "text": [
      "Максимальный доход: 3040.0 руб.\n",
      "Количество деталей типа А: 1400 шт\n",
      "Количество деталей типа В: 1000 шт\n"
     ]
    }
   ],
   "source": [
    "res = linprog(c, A_ub=A, b_ub=b, bounds=[x0_bounds, x1_bounds], method='highs')\n",
    "\n",
    "print(\"Максимальный доход:\", -res.fun, \"руб.\")\n",
    "print(\"Количество деталей типа А:\", round(res.x[0]), \"шт\")\n",
    "print(\"Количество деталей типа В:\", round(res.x[1]), \"шт\")\n"
   ],
   "metadata": {
    "collapsed": false,
    "ExecuteTime": {
     "end_time": "2024-04-07T18:44:56.237509Z",
     "start_time": "2024-04-07T18:44:56.230847Z"
    }
   },
   "id": "f23b2af8a000e5e6",
   "execution_count": 4
  },
  {
   "cell_type": "code",
   "outputs": [
    {
     "name": "stdout",
     "output_type": "stream",
     "text": [
      "Начальная таблица:\n",
      "[1, 2, 5000]\n",
      "[1, 0, 2500]\n",
      "[0, 2, 2000]\n",
      "[2, 4, 10000]\n",
      "[5, 3, 10000]\n",
      "[-1, -1, -1500]\n",
      "[-1.1, -1.5, 0]\n",
      "\n",
      "Итерация 1:\n",
      "[1.0, 0.0, 3000.0]\n",
      "[1.0, 0.0, 2500.0]\n",
      "[0.0, 1.0, 1000.0]\n",
      "[2.0, 0.0, 6000.0]\n",
      "[5.0, 0.0, 7000.0]\n",
      "[-1.0, 0.0, -500.0]\n",
      "[-1.1, 0.0, 1500.0]\n",
      "\n",
      "Итерация 2:\n",
      "[0.0, 0.0, 1600.0]\n",
      "[0.0, 0.0, 1100.0]\n",
      "[0.0, 1.0, 1000.0]\n",
      "[0.0, 0.0, 3200.0]\n",
      "[1.0, 0.0, 1400.0]\n",
      "[0.0, 0.0, 900.0]\n",
      "[0.0, 0.0, 3040.0]\n",
      "\n",
      "Максимальный доход: 3040 руб.\n",
      "Количество деталей типа А: 1400 шт\n",
      "Количество деталей типа В: 1000 шт\n"
     ]
    }
   ],
   "source": [
    "tableau = simplex_method(A, b, c)\n",
    "\n",
    "for sublist in tableau:\n",
    "    if sublist[0] == 1.0:\n",
    "        A_ans = (sublist[2])\n",
    "\n",
    "for sublist in tableau:\n",
    "    if sublist[1] == 1.0:\n",
    "        B_ans = (sublist[2])\n",
    "    \n",
    "max_val = tableau[-1][-1]\n",
    "\n",
    "if is_optimal(tableau):\n",
    "    print(\"Максимальный доход:\", round(max_val), \"руб.\")\n",
    "    print(\"Количество деталей типа А:\", round(A_ans), \"шт\")\n",
    "    print(\"Количество деталей типа В:\", round(B_ans), \"шт\")\n",
    "else:\n",
    "    print(\"Решение не найдено.\")"
   ],
   "metadata": {
    "collapsed": false,
    "ExecuteTime": {
     "end_time": "2024-04-07T18:44:56.241760Z",
     "start_time": "2024-04-07T18:44:56.239031Z"
    }
   },
   "id": "a963f5f35231f639",
   "execution_count": 5
  },
  {
   "cell_type": "code",
   "outputs": [
    {
     "name": "stdout",
     "output_type": "stream",
     "text": [
      "Результаты совпали\n"
     ]
    }
   ],
   "source": [
    "if int(max_val) == int(-res.fun) and int(res.x[0]) == int(A_ans) and int(res.x[1]) == int(B_ans):\n",
    "    print(\"Результаты совпали\")\n",
    "else:\n",
    "    print(\"Результаты не совпали\")"
   ],
   "metadata": {
    "collapsed": false,
    "ExecuteTime": {
     "end_time": "2024-04-07T18:44:56.244595Z",
     "start_time": "2024-04-07T18:44:56.242501Z"
    }
   },
   "id": "a1363474b7ba17da",
   "execution_count": 6
  }
 ],
 "metadata": {
  "kernelspec": {
   "display_name": "Python 3",
   "language": "python",
   "name": "python3"
  },
  "language_info": {
   "codemirror_mode": {
    "name": "ipython",
    "version": 2
   },
   "file_extension": ".py",
   "mimetype": "text/x-python",
   "name": "python",
   "nbconvert_exporter": "python",
   "pygments_lexer": "ipython2",
   "version": "2.7.6"
  }
 },
 "nbformat": 4,
 "nbformat_minor": 5
}
