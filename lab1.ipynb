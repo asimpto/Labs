{
 "cells": [
  {
   "cell_type": "code",
   "execution_count": 6,
   "id": "initial_id",
   "metadata": {
    "collapsed": true,
    "ExecuteTime": {
     "end_time": "2024-04-30T17:43:00.966051Z",
     "start_time": "2024-04-30T17:43:00.961724Z"
    }
   },
   "outputs": [],
   "source": [
    "import pandas as pd"
   ]
  },
  {
   "cell_type": "code",
   "outputs": [],
   "source": [
    "T = pd.read_excel(\"./content/s16.xlsx\", header=0, index_col=False)\n",
    "T['Время'] = pd.to_datetime(T['Время'], format='%H:%M:%S')\n",
    "T = T.drop(labels='Скорость Ветра', axis=1)"
   ],
   "metadata": {
    "collapsed": false,
    "ExecuteTime": {
     "end_time": "2024-04-30T17:43:01.005368Z",
     "start_time": "2024-04-30T17:43:00.968902Z"
    }
   },
   "id": "4942f6b8c50eeeca",
   "execution_count": 7
  },
  {
   "cell_type": "code",
   "outputs": [],
   "source": [
    "T['День'] = T['Дата'].dt.day\n",
    "T['Месяц'] = T['Дата'].dt.month\n",
    "T['Час'] = T['Время'].dt.hour\n",
    "T['Минуты'] = T['Время'].dt.minute\n",
    "\n",
    "T = T.drop(labels=['Дата', 'Время'], axis=1)"
   ],
   "metadata": {
    "collapsed": false,
    "ExecuteTime": {
     "end_time": "2024-04-30T17:43:01.012197Z",
     "start_time": "2024-04-30T17:43:01.006225Z"
    }
   },
   "id": "e88f4b2afbe58577",
   "execution_count": 8
  },
  {
   "cell_type": "code",
   "outputs": [
    {
     "data": {
      "text/plain": "    Внешняя освещенность  Номер дня в году  Угол солнечного сколнения  \\\n0                  0.711               327               -9999.000000   \n1                  0.488               327                 -20.824944   \n2                  0.594               327                 -20.824944   \n3                    NaN               327                 -20.824944   \n4                  0.620               327                 -20.824944   \n..                   ...               ...                        ...   \n95                 0.573               328                 -21.007431   \n96                 0.751               329                 -21.183694   \n97                 0.782               329                 -21.183694   \n98                 0.439               329                 -21.183694   \n99                 0.671               329                 -21.183694   \n\n    Долгота  Широта  Температура воздуха  Влажность воздуха Видимость  День  \\\n0    57.475  54.541                    1             0.8663     11.0     23   \n1    57.475  54.541                    1             0.8795     11.0     23   \n2    57.475  54.541                    1             0.8755     11.0     23   \n3    57.475  54.541                    1             0.8760     11.0     23   \n4    57.475  54.541                    0             0.8707     11.0     23   \n..      ...     ...                  ...                ...       ...   ...   \n95   57.475  54.541                    1             1.0040     11.0     24   \n96   57.475  54.541                    1             0.9947     11.0     25   \n97   57.475  54.541                    1             1.0056     11.0     25   \n98   57.475  54.541                    1             0.9909      7.0     25   \n99   57.475  54.541                    1             0.9929      7.0     25   \n\n    Месяц  Час  Минуты  \n0      11    0       0  \n1      11    0      30  \n2      11    1       0  \n3      11    1      30  \n4      11    2       0  \n..    ...  ...     ...  \n95     11   23      30  \n96     11    0       0  \n97     11    0      30  \n98     11    1       0  \n99     11    1      30  \n\n[100 rows x 12 columns]",
      "text/html": "<div>\n<style scoped>\n    .dataframe tbody tr th:only-of-type {\n        vertical-align: middle;\n    }\n\n    .dataframe tbody tr th {\n        vertical-align: top;\n    }\n\n    .dataframe thead th {\n        text-align: right;\n    }\n</style>\n<table border=\"1\" class=\"dataframe\">\n  <thead>\n    <tr style=\"text-align: right;\">\n      <th></th>\n      <th>Внешняя освещенность</th>\n      <th>Номер дня в году</th>\n      <th>Угол солнечного сколнения</th>\n      <th>Долгота</th>\n      <th>Широта</th>\n      <th>Температура воздуха</th>\n      <th>Влажность воздуха</th>\n      <th>Видимость</th>\n      <th>День</th>\n      <th>Месяц</th>\n      <th>Час</th>\n      <th>Минуты</th>\n    </tr>\n  </thead>\n  <tbody>\n    <tr>\n      <th>0</th>\n      <td>0.711</td>\n      <td>327</td>\n      <td>-9999.000000</td>\n      <td>57.475</td>\n      <td>54.541</td>\n      <td>1</td>\n      <td>0.8663</td>\n      <td>11.0</td>\n      <td>23</td>\n      <td>11</td>\n      <td>0</td>\n      <td>0</td>\n    </tr>\n    <tr>\n      <th>1</th>\n      <td>0.488</td>\n      <td>327</td>\n      <td>-20.824944</td>\n      <td>57.475</td>\n      <td>54.541</td>\n      <td>1</td>\n      <td>0.8795</td>\n      <td>11.0</td>\n      <td>23</td>\n      <td>11</td>\n      <td>0</td>\n      <td>30</td>\n    </tr>\n    <tr>\n      <th>2</th>\n      <td>0.594</td>\n      <td>327</td>\n      <td>-20.824944</td>\n      <td>57.475</td>\n      <td>54.541</td>\n      <td>1</td>\n      <td>0.8755</td>\n      <td>11.0</td>\n      <td>23</td>\n      <td>11</td>\n      <td>1</td>\n      <td>0</td>\n    </tr>\n    <tr>\n      <th>3</th>\n      <td>NaN</td>\n      <td>327</td>\n      <td>-20.824944</td>\n      <td>57.475</td>\n      <td>54.541</td>\n      <td>1</td>\n      <td>0.8760</td>\n      <td>11.0</td>\n      <td>23</td>\n      <td>11</td>\n      <td>1</td>\n      <td>30</td>\n    </tr>\n    <tr>\n      <th>4</th>\n      <td>0.620</td>\n      <td>327</td>\n      <td>-20.824944</td>\n      <td>57.475</td>\n      <td>54.541</td>\n      <td>0</td>\n      <td>0.8707</td>\n      <td>11.0</td>\n      <td>23</td>\n      <td>11</td>\n      <td>2</td>\n      <td>0</td>\n    </tr>\n    <tr>\n      <th>...</th>\n      <td>...</td>\n      <td>...</td>\n      <td>...</td>\n      <td>...</td>\n      <td>...</td>\n      <td>...</td>\n      <td>...</td>\n      <td>...</td>\n      <td>...</td>\n      <td>...</td>\n      <td>...</td>\n      <td>...</td>\n    </tr>\n    <tr>\n      <th>95</th>\n      <td>0.573</td>\n      <td>328</td>\n      <td>-21.007431</td>\n      <td>57.475</td>\n      <td>54.541</td>\n      <td>1</td>\n      <td>1.0040</td>\n      <td>11.0</td>\n      <td>24</td>\n      <td>11</td>\n      <td>23</td>\n      <td>30</td>\n    </tr>\n    <tr>\n      <th>96</th>\n      <td>0.751</td>\n      <td>329</td>\n      <td>-21.183694</td>\n      <td>57.475</td>\n      <td>54.541</td>\n      <td>1</td>\n      <td>0.9947</td>\n      <td>11.0</td>\n      <td>25</td>\n      <td>11</td>\n      <td>0</td>\n      <td>0</td>\n    </tr>\n    <tr>\n      <th>97</th>\n      <td>0.782</td>\n      <td>329</td>\n      <td>-21.183694</td>\n      <td>57.475</td>\n      <td>54.541</td>\n      <td>1</td>\n      <td>1.0056</td>\n      <td>11.0</td>\n      <td>25</td>\n      <td>11</td>\n      <td>0</td>\n      <td>30</td>\n    </tr>\n    <tr>\n      <th>98</th>\n      <td>0.439</td>\n      <td>329</td>\n      <td>-21.183694</td>\n      <td>57.475</td>\n      <td>54.541</td>\n      <td>1</td>\n      <td>0.9909</td>\n      <td>7.0</td>\n      <td>25</td>\n      <td>11</td>\n      <td>1</td>\n      <td>0</td>\n    </tr>\n    <tr>\n      <th>99</th>\n      <td>0.671</td>\n      <td>329</td>\n      <td>-21.183694</td>\n      <td>57.475</td>\n      <td>54.541</td>\n      <td>1</td>\n      <td>0.9929</td>\n      <td>7.0</td>\n      <td>25</td>\n      <td>11</td>\n      <td>1</td>\n      <td>30</td>\n    </tr>\n  </tbody>\n</table>\n<p>100 rows × 12 columns</p>\n</div>"
     },
     "execution_count": 9,
     "metadata": {},
     "output_type": "execute_result"
    }
   ],
   "source": [
    "T['Номер дня в году'] = (T['Номер дня в году'].str.\n",
    "                         replace('\\D+', '', regex=True).astype(int))\n",
    "T['Температура воздуха'] = pd.to_numeric(T['Температура воздуха'].str.\n",
    "                         replace('°C', ''), downcast='signed')\n",
    "T['Видимость'] = pd.to_numeric(T['Видимость'].str.\n",
    "                         replace('км', ''), downcast='signed', errors='ignore')\n",
    "T.reset_index()\n",
    "T.head(100)"
   ],
   "metadata": {
    "collapsed": false,
    "ExecuteTime": {
     "end_time": "2024-04-30T17:43:01.024641Z",
     "start_time": "2024-04-30T17:43:01.013158Z"
    }
   },
   "id": "785701df6a34caa6",
   "execution_count": 9
  },
  {
   "cell_type": "code",
   "outputs": [],
   "source": [
    "T.to_excel('answer.xlsx', na_rep='NaN')"
   ],
   "metadata": {
    "collapsed": false,
    "ExecuteTime": {
     "end_time": "2024-04-30T17:43:01.050186Z",
     "start_time": "2024-04-30T17:43:01.026193Z"
    }
   },
   "id": "88c8cf429a6803f2",
   "execution_count": 10
  }
 ],
 "metadata": {
  "kernelspec": {
   "display_name": "Python 3",
   "language": "python",
   "name": "python3"
  },
  "language_info": {
   "codemirror_mode": {
    "name": "ipython",
    "version": 2
   },
   "file_extension": ".py",
   "mimetype": "text/x-python",
   "name": "python",
   "nbconvert_exporter": "python",
   "pygments_lexer": "ipython2",
   "version": "2.7.6"
  }
 },
 "nbformat": 4,
 "nbformat_minor": 5
}
